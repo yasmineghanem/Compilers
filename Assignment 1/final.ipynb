{
 "cells": [
  {
   "cell_type": "markdown",
   "metadata": {},
   "source": [
    "### **IMPORTS**"
   ]
  },
  {
   "cell_type": "code",
   "execution_count": 9,
   "metadata": {},
   "outputs": [
    {
     "name": "stdout",
     "output_type": "stream",
     "text": [
      "Requirement already satisfied: igraph in c:\\users\\jess\\anaconda3\\lib\\site-packages (0.11.4)\n",
      "Requirement already satisfied: texttable>=1.6.2 in c:\\users\\jess\\anaconda3\\lib\\site-packages (from igraph) (1.7.0)\n",
      "Note: you may need to restart the kernel to use updated packages.\n",
      "Collecting graphviz\n",
      "  Obtaining dependency information for graphviz from https://files.pythonhosted.org/packages/00/be/d59db2d1d52697c6adc9eacaf50e8965b6345cc143f671e1ed068818d5cf/graphviz-0.20.3-py3-none-any.whl.metadata\n",
      "  Downloading graphviz-0.20.3-py3-none-any.whl.metadata (12 kB)\n",
      "Downloading graphviz-0.20.3-py3-none-any.whl (47 kB)\n",
      "   ---------------------------------------- 0.0/47.1 kB ? eta -:--:--\n",
      "   ----------------- ---------------------- 20.5/47.1 kB 682.7 kB/s eta 0:00:01\n",
      "   ---------------------------------------- 47.1/47.1 kB 594.9 kB/s eta 0:00:00\n",
      "Installing collected packages: graphviz\n",
      "Successfully installed graphviz-0.20.3\n",
      "Note: you may need to restart the kernel to use updated packages.\n"
     ]
    }
   ],
   "source": [
    "%pip install igraph\n",
    "%pip install graphviz"
   ]
  },
  {
   "cell_type": "code",
   "execution_count": 10,
   "metadata": {},
   "outputs": [],
   "source": [
    "import numpy as np\n",
    "import re\n",
    "import json\n",
    "import igraph as ig\n",
    "from graphviz import Digraph"
   ]
  },
  {
   "cell_type": "markdown",
   "metadata": {},
   "source": [
    "### **Helper Functions**"
   ]
  },
  {
   "cell_type": "code",
   "execution_count": 11,
   "metadata": {},
   "outputs": [],
   "source": [
    "def isOperator(c):\n",
    "    return (not c.isalpha()) and (not c.isdigit())\n",
    "\n",
    "# Function to get the priority of operators\n",
    "def getPriority(c):\n",
    "    if c == '-' or c == '+':\n",
    "        return 1\n",
    "    elif c == '*' or c == '/':\n",
    "        return 2\n",
    "    elif c == '^':\n",
    "        return 3\n",
    "    return 0"
   ]
  },
  {
   "cell_type": "markdown",
   "metadata": {},
   "source": [
    "### **Check Regex Validity**"
   ]
  },
  {
   "cell_type": "code",
   "execution_count": 19,
   "metadata": {},
   "outputs": [
    {
     "name": "stdout",
     "output_type": "stream",
     "text": [
      "False\n"
     ]
    }
   ],
   "source": [
    "## MSH 3ARFA ANHY EL ASAH 3SHANLAW 3AYZ SPECIAL CHARACTER MSLN????\n",
    "\n",
    "def is_regex_valid(regex):\n",
    "\n",
    "\t# 1- Check that the characters in regex are within the valid set of characters\n",
    "\t# 2- check that all brackets are closed\n",
    "\tregex_operations = ['|', '(', ')', '[', ']', '.', '?', '*', '+', '-', '\\\\\\\\']\n",
    "\tbracket,parenthesis = 0, 0\n",
    "\n",
    "\tfor char in regex:\n",
    "\t\tif not char.isalnum() and char != ' ' and char not in regex_operations:\n",
    "\t\t\treturn False\n",
    "\t\t\n",
    "\t\tif char == '(':\n",
    "\t\t\tbracket += 1\n",
    "\t\telif char == ')':\n",
    "\t\t\tbracket -= 1\n",
    "\t\telif char == '[':\n",
    "\t\t\tparenthesis += 1\n",
    "\t\telif char == ']':\n",
    "\t\t\tparenthesis -= 1\n",
    "\tif bracket != 0 or parenthesis != 0:\n",
    "\t\treturn False\n",
    "\t\n",
    "\treturn True\n",
    "\n",
    "def is_regex_validdd(regex):\n",
    "    try:\n",
    "        re.compile(regex)\n",
    "        return True\n",
    "    except:\n",
    "        return False\n",
    "# Test\n",
    "validity_check = is_regex_valid(\"[A-Zl]/ko;]\")\n",
    "print(validity_check)"
   ]
  },
  {
   "cell_type": "markdown",
   "metadata": {},
   "source": [
    "### **Change regex to PostFix (Shunt_Yard)**"
   ]
  },
  {
   "cell_type": "code",
   "execution_count": 29,
   "metadata": {},
   "outputs": [
    {
     "name": "stdout",
     "output_type": "stream",
     "text": [
      "ab|c|\n"
     ]
    }
   ],
   "source": [
    "def regex_to_postfix(regex):\n",
    "        # Operators and precedance level: * (kleene star), + (one or more), ? (zero or one), . (concatenation), and | (ORing).\n",
    "        operators = {'*': 5, '+': 4, '?': 3, '.': 2, '|': 1}\n",
    "\t\t# Initialize the postfix and stack (temp) strings to empty strings.\n",
    "        postfix, stack = \"\", \"\"\n",
    "        # 1. Check for square brakcets of letter as ORs and replace them with |. i.e. Character class\n",
    "        for i in range(len(regex)):\n",
    "            char = regex[i]\n",
    "            if char == '[':\n",
    "                j = i + 1\n",
    "                while regex[j] != ']':\n",
    "                    if regex[j].isalnum() and regex[j + 1].isalnum():\n",
    "                        regex = regex[:j + 1] + '|' + regex[j + 1:]\n",
    "                    j += 1\n",
    "\n",
    "        # Replace all remaining square brackets with parentheses.\n",
    "        # This is done because parentheses are used to group sub-expressions in regular expressions\n",
    "        regex = regex.replace('[', '(')\n",
    "        regex = regex.replace(']', ')')\n",
    "\n",
    "        # print(\"postfix: \", regex)\n",
    "\n",
    "        # Replace ranges in character classes with the individual characters they represent.\n",
    "        hyphen_count = regex.count('-')\n",
    "        for i in range(hyphen_count):\n",
    "            for j in range(len(regex)):\n",
    "                char = regex[j]\n",
    "                if char == '-':\n",
    "                    final = regex[j + 1]\n",
    "                    first = regex[j - 1]\n",
    "                    temp_list = ''\n",
    "                    for k in range(int(ord(final) - ord(first))):\n",
    "                        temp_list = temp_list + '|'\n",
    "                        temp = chr(ord(first) + k + 1)\n",
    "                        temp_list = temp_list + temp\n",
    "                    regex = regex[0: j] + temp_list + regex[j + 2:]\n",
    "                    break\n",
    "        # print(\"postfix2\", regex)\n",
    "        \n",
    "        # Insert a concatenation operator (.) between any two adjacent characters if there is no operator between them. OR there is a bracket\n",
    "        dotIndices = []\n",
    "        for i in range(len(regex) - 1):\n",
    "            startOps = [')', \"*\",\"+\", \"*\"]\n",
    "            endOps = [\"*\", \"+\", \".\", \"|\", \")\"]\n",
    "            if regex[i] in startOps and regex[i+1] not in endOps:\n",
    "                dotIndices.append(i)\n",
    "            elif regex[i].isalnum() and (regex[i+1].isalnum() or regex[i+1] == '('):\n",
    "                dotIndices.append(i)\n",
    "        \n",
    "        for i in range(len(dotIndices)):\n",
    "            regex = regex[:dotIndices[i] + 1 + i] + '.' + regex[dotIndices[i] + 1 + i:]\n",
    "        # print(\"postfix: \", regex)\n",
    "        \n",
    "\n",
    "        # Shunt_Yard Algorithm\n",
    "        for i in range(len(regex)):\n",
    "            c = regex[i]\n",
    "            # If the character is an opening parenthesis, push it onto the stack.\n",
    "            if c == '(':\n",
    "                stack = stack + c\n",
    "            # If the character is a closing parenthesis, pop operators off the stack and append them to the postfix string until an opening parenthesis is found & delete the parenthesis\n",
    "            elif c == ')':\n",
    "                while stack[-1] != '(':\n",
    "                    # places the character at the end of the stack in the postfix expression\n",
    "                    postfix = postfix + stack[-1]\n",
    "                    # [:-1] denotes up to or including the last character\n",
    "                    stack = stack[:-1]\n",
    "                stack = stack[:-1]  # removes the open bracket in the stack\n",
    "\n",
    "            # If the character is an operator, pop operators off the stack and append them to the postfix string as long as they have higher or equal precedence to the current operator. Then push the current operator onto the stack.\n",
    "            elif c in operators:\n",
    "                while stack and operators.get(c, 0) <= operators.get(stack[-1], 0):\n",
    "                    postfix, stack = postfix + stack[-1], stack[:-1]\n",
    "                stack = stack + c\n",
    "\n",
    "            # If the character is a operand (i.e. not an operator or parenthesis), append it to the postfix string.\n",
    "            else:\n",
    "                postfix = postfix + c\n",
    "        # After iterating over all characters of the regular expression, the function pops any remaining operators off the stack and appends them to the postfix string.\n",
    "        while stack:\n",
    "            postfix, stack = postfix + stack[-1], stack[:-1]\n",
    "        # print(\"postfix: \", regex)\n",
    "\n",
    "        # Finally, the function returns the postfix notation of the input regular expression.\n",
    "        return postfix\n",
    "\n",
    "print(shunt_yard(\"[a-c]\"))"
   ]
  },
  {
   "cell_type": "markdown",
   "metadata": {},
   "source": [
    "### **Make a Class for NFA**"
   ]
  },
  {
   "cell_type": "code",
   "execution_count": null,
   "metadata": {},
   "outputs": [],
   "source": [
    "# Each state has a list of transitions and epsilon transitions\n",
    "# We have 2 types of states accepting and non accepting\n",
    "class State:\n",
    "\tid = 0\n",
    "\tdef __init__(self):\n",
    "\t\tself.id = State.id\n",
    "\t\tState.id += 1\n",
    "\t\tself.transitions = []\n",
    "\t\tself.accepting = False\n",
    "\t\tself.start = False\n",
    "\n",
    "\t\tself.epsilon_transitions = [] # NO7OTAHAA TRANSITION 3ADY?\n",
    "\t\n",
    "\t# Print states override\n",
    "\tdef __str__(self):\n",
    "\t\toutput = \"State: \" + str(id(self)) + \"\\n\"\n",
    "\t\toutput += \"  Transitions: \" + str(self.transitions) + \"\\n\"\n",
    "\t\toutput += \"  Epsilon transitions: \" + str(self.epsilon_transitions) + \"\\n\"\n",
    "\t\toutput += (\"  Accepting? \" + str(self.accepting) + \"\\n\")\n",
    "\t\toutput += (\"  Saart? \" + str(self.accepting) + \"\\n\")\n",
    "\t\treturn output"
   ]
  },
  {
   "cell_type": "code",
   "execution_count": null,
   "metadata": {},
   "outputs": [],
   "source": [
    "# NFA class\n",
    "\t# Consists of\n",
    "\t\t# 1. States ( eaach has its transitions and epsilon transitions)\n",
    "\t\t# 2. Start State\n",
    "\t\t# 3. Final State\t\t\t \n",
    "\n",
    "\t# Operations that can be done on them\n",
    "\t\t# 1. Concatenation\n",
    "\t\t# 2. Union\n",
    "\t\t# 3. Kleene Star\n",
    "\t\t# 4. Positive Closure\n",
    "\n",
    "class NFA:\n",
    "\tdef __init__(self, start_state = None, final_state = None, states = [] ) -> None:\n",
    "\t\tself.states = states\n",
    "\t\tself.start_state = start_state\n",
    "\t\tself.final_state = final_state\n",
    "\n",
    "\t# msh 3rfa hn7tag dool walla la2\n",
    "\t\t####################\n",
    "\tdef add_state(self, state):\n",
    "\t\tself.states.append(state)\n",
    "\n",
    "\tdef add_transition(self, from_state, to_state, transition): #transition can be epsilon\n",
    "\t\tfrom_state.transitions.append((to_state, transition))\n",
    "\n",
    "\tdef add_epsilon_transition(self, from_state, to_state):\n",
    "\t\tfrom_state.epsilon_transitions.append(to_state)\n",
    "    \t####################\n",
    "\t \n",
    "\tdef base_nfa(self, symbol): #NFA for a single symbol\n",
    "\t\tif symbol == \"EPSILON\":\n",
    "\t\t\tstart_state = State()\n",
    "\t\t\taccept_state = State()\n",
    "\t\t\tstart_state.epsilon_transitions.append(accept_state)\n",
    "\t\t\treturn NFA(start_state=start_state, final_state=accept_state)\n",
    "\t\telse:\n",
    "\t\t\tstart_state = State()\n",
    "\t\t\taccept_state = State()\n",
    "\t\t\taccept_state.accepting = True\n",
    "\t\t\tstart_state.transitions.append((accept_state, symbol))\n",
    "\t\t\treturn NFA(start_state=start_state, final_state=accept_state)\n",
    "\n",
    "\tdef concatenate(self, nfa1, nfa2): # NFA for (A.B)\n",
    "\t\tnfa1.final_state.accepting = False  \n",
    "\t\tnfa1.final_state.epsilon_transitions.append(nfa2.start_state)\n",
    "\t\tself.start_state = nfa1.start_state\n",
    "\t\tself.final_state = nfa2.final_state\n",
    "\t\t# self.states.extend(set(nfa1.states + nfa2.states))  # Remove duplicates\n",
    "\t\treturn self\n",
    "\t\n",
    "\tdef union(self, nfa1, nfa2): # NFA for (A|B)\n",
    "\t\t# Add new start and accept states\n",
    "\t\tstart_state = State()\n",
    "\t\taccept_state = State()\n",
    "\t\taccept_state.accepting = True\n",
    "\t\t# Add epsilon transitions from new start state to the start states of nfa1 and nfa2\n",
    "\t\tstart_state.epsilon_transitions.append(nfa1.start_state)\n",
    "\t\tstart_state.epsilon_transitions.append(nfa2.start_state)\n",
    "\t\t# Add epsilon transitions from the final states of nfa1 and nfa2 to the new accept state\n",
    "\t\tnfa1.final_state.epsilon_transitions.append(accept_state)\n",
    "\t\tnfa2.final_state.epsilon_transitions.append(accept_state)\n",
    "\t\t# Set the new start and accept states of the result NFA\n",
    "\t\tself.start_state = start_state\n",
    "\t\tself.final_state = accept_state\n",
    "\t\t# self.states.extend(set(nfa1.states + nfa2.states + [start_state, accept_state])) # Remove duplicates\n",
    "\t\treturn self\n",
    "\t\n",
    "\tdef kleene_star(self, nfa): # NFA for (A*)\n",
    "\t\t# Add new start and accept states\n",
    "\t\tstart_state = State()\n",
    "\t\taccept_state = State()\n",
    "\t\taccept_state.accepting = True\n",
    "\t\t# Add epsilon transitions from new start state to the start state of nfa\n",
    "\t\tstart_state.epsilon_transitions.append(nfa.start_state)\n",
    "\t\t# Add epsilon transitions from the final state of nfa to the new accept state (for more than one repetition)\n",
    "\t\tnfa.final_state.epsilon_transitions.append(nfa.start_state)\n",
    "\t\t# Add epsilon transitions from the final state of nfa to the new accept state (for zero repetition)\n",
    "\t\tnfa.final_state.epsilon_transitions.append(accept_state)\n",
    "\t\tself.start_state = start_state\n",
    "\t\tself.final_state = accept_state\n",
    "\t\t# self.states.extend(set(nfa.states + [start_state, accept_state])) # Remove duplicates\n",
    "\t\treturn self\n",
    "\n",
    "\t########## NB Positive closure can be done using a kleen star and concatenation\n",
    "\n",
    "\tdef thompson(self, regex):\n",
    "\t\t\"\"\"\n",
    "\t\tConverts a regular expression in postfix notation to an NFA.\n",
    "\t\t\"\"\"\n",
    "\t\tnfa_stack = []\n",
    "\t\tfor symbol in regex:\n",
    "\t\t\tif symbol.isalpha():  # Single character\n",
    "\t\t\t\tprint(self.base_nfa(symbol))\n",
    "\t\t\t\treturn\n",
    "\t\t\t\tnfa_stack.append(self.base_nfa(symbol))\n",
    "\t\t\telif symbol == '.':  # Concatenation\n",
    "\t\t\t\tnfa2 = nfa_stack.pop()\n",
    "\t\t\t\tnfa1 = nfa_stack.pop()\n",
    "\t\t\t\tnfa_stack.append(self.concatenate(nfa1, nfa2))\n",
    "\t\t\telif symbol == '|':  # Union\n",
    "\t\t\t\tnfa2 = nfa_stack.pop()\n",
    "\t\t\t\tnfa1 = nfa_stack.pop()\n",
    "\t\t\t\tnfa_stack.append(self.union(nfa1, nfa2))\n",
    "\t\t\telif symbol == '*':  # Kleene star\n",
    "\t\t\t\tnfa = nfa_stack.pop()\n",
    "\t\t\t\tnfa_stack.append(self.kleene_star(nfa))\n",
    "\t\t\telif symbol == '+':  # Positive closure (A+)\n",
    "\t\t\t\tnfa = nfa_stack.pop()  # Get the NFA for A\n",
    "\t\t\t\tnfa_stack.append(self.concatenate(nfa, self.kleene_star(nfa)))  # A followed by A*\n",
    "\t\treturn nfa_stack.pop()  # Final NFA\n",
    "\t\n",
    "\tdef __str__(self):\n",
    "\t\toutput = \"Start state: \" + str(self.start_state.id) + \"\\n\" \n",
    "\t\toutput += \"Final state: \" + str(self.final_state.id) + \"\\n\" \n",
    "\t\toutput += \"States:\\n\"\n",
    "\t\tfor state in self.states:\n",
    "\t\t\toutput += str(state) + \"\\n\"\n",
    "\t\treturn output\n",
    "\n",
    "nfa = NFA()\n",
    "nfa.base_nfa(\"a\")\n",
    "print(nfa)"
   ]
  },
  {
   "cell_type": "markdown",
   "metadata": {},
   "source": [
    "### **Write Result to JSON**"
   ]
  },
  {
   "cell_type": "code",
   "execution_count": null,
   "metadata": {},
   "outputs": [],
   "source": [
    "def write_json(nfa, filename = \"fsm.json\"):\n",
    "    json_object = json.dumps(nfa, indent = 4) \n",
    "    with open(filename, \"w\") as f:\n",
    "        json.dump(json_object, f)\n",
    "    "
   ]
  },
  {
   "cell_type": "markdown",
   "metadata": {},
   "source": [
    "### **Create Graph**"
   ]
  },
  {
   "cell_type": "code",
   "execution_count": null,
   "metadata": {},
   "outputs": [],
   "source": [
    "def display_graph(nfa, filename):\n",
    "    pass"
   ]
  },
  {
   "cell_type": "markdown",
   "metadata": {},
   "source": [
    "## **MAIN**"
   ]
  },
  {
   "cell_type": "code",
   "execution_count": null,
   "metadata": {},
   "outputs": [
    {
     "name": "stdout",
     "output_type": "stream",
     "text": [
      "Start state: 4\n",
      "Final state: State: 2079234431184\n",
      "  Transitions: []\n",
      "  Epsilon transitions: []\n",
      "  Accepting: True\n",
      "\n",
      "States:\n",
      "\n",
      "None\n"
     ]
    }
   ],
   "source": [
    "# 1. Get user Input\n",
    "regex = input(\"Enter a regex: \")\n",
    "\n",
    "# 2. Check if the regex is valid\n",
    "if not is_regex_valid(regex):\n",
    "\tprint(\"Invalid regex\")\n",
    "\n",
    "\n",
    "# # 3. Turn regex to postfix\n",
    "postfixRegex = regex_to_postfix(regex)\n",
    "\n",
    "# # 4. Implement Thompson's Algorithm\n",
    "# fsm = thompson_algorithm(regex)\n",
    "\n",
    "# # 5. Write the FSM to a file\n",
    "# write_FSM(fsm)\n"
   ]
  }
 ],
 "metadata": {
  "kernelspec": {
   "display_name": "base",
   "language": "python",
   "name": "python3"
  },
  "language_info": {
   "codemirror_mode": {
    "name": "ipython",
    "version": 3
   },
   "file_extension": ".py",
   "mimetype": "text/x-python",
   "name": "python",
   "nbconvert_exporter": "python",
   "pygments_lexer": "ipython3",
   "version": "3.11.5"
  }
 },
 "nbformat": 4,
 "nbformat_minor": 2
}
