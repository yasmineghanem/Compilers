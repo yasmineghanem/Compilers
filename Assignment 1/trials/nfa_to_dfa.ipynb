{
 "cells": [
  {
   "cell_type": "code",
   "execution_count": 1,
   "metadata": {},
   "outputs": [],
   "source": [
    "# IMPORTS\n",
    "import json"
   ]
  },
  {
   "cell_type": "code",
   "execution_count": 6,
   "metadata": {},
   "outputs": [
    {
     "data": {
      "text/plain": [
       "{'startingState': 'S3',\n",
       " 'S3': {'isTerminatingState': False, 'epsilon': 'S1'},\n",
       " 'S4': {'isTerminatingState': False, 'epsilon': 'S5'},\n",
       " 'S1': {'isTerminatingState': False, 'a': 'S2'},\n",
       " 'S2': {'isTerminatingState': False, 'epsilon': ['S3', 'S4']},\n",
       " 'S5': {'isTerminatingState': False, 'b': 'S6'},\n",
       " 'S6': {'isTerminatingState': True}}"
      ]
     },
     "execution_count": 6,
     "metadata": {},
     "output_type": "execute_result"
    }
   ],
   "source": [
    "def read_nfa(nfa_filepath):\n",
    "    with open(nfa_filepath) as nfa_file:\n",
    "        nfa = json.load(nfa_file)\n",
    "    return nfa\n",
    "\n",
    "read_nfa(\"nfa_test.json\")\n",
    "# print(nfa[\"startingState\"])"
   ]
  },
  {
   "cell_type": "code",
   "execution_count": null,
   "metadata": {},
   "outputs": [],
   "source": [
    "def nfa_to_dfa(nfa):\n",
    "    pass"
   ]
  }
 ],
 "metadata": {
  "kernelspec": {
   "display_name": "Python 3",
   "language": "python",
   "name": "python3"
  },
  "language_info": {
   "codemirror_mode": {
    "name": "ipython",
    "version": 3
   },
   "file_extension": ".py",
   "mimetype": "text/x-python",
   "name": "python",
   "nbconvert_exporter": "python",
   "pygments_lexer": "ipython3",
   "version": "3.10.9"
  }
 },
 "nbformat": 4,
 "nbformat_minor": 2
}
